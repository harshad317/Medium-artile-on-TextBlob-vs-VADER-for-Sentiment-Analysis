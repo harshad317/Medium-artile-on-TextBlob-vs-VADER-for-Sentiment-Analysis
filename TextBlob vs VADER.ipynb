{
 "cells": [
  {
   "cell_type": "code",
   "execution_count": 1,
   "id": "10b900d2-8a7c-450d-894b-9a0eb97bee19",
   "metadata": {},
   "outputs": [
    {
     "name": "stdout",
     "output_type": "stream",
     "text": [
      "Collecting textblob\n",
      "  Downloading textblob-0.17.1-py2.py3-none-any.whl (636 kB)\n",
      "\u001b[2K     \u001b[90m━━━━━━━━━━━━━━━━━━━━━━━━━━━━━━━━━━━━━━━\u001b[0m \u001b[32m636.8/636.8 kB\u001b[0m \u001b[31m2.3 MB/s\u001b[0m eta \u001b[36m0:00:00\u001b[0m00:01\u001b[0m00:01\u001b[0m\n",
      "\u001b[?25hCollecting nltk>=3.1\n",
      "  Using cached nltk-3.8.1-py3-none-any.whl (1.5 MB)\n",
      "Collecting regex>=2021.8.3\n",
      "  Using cached regex-2023.3.23-cp310-cp310-macosx_10_9_x86_64.whl (294 kB)\n",
      "Requirement already satisfied: tqdm in /Users/hpu4454/anaconda3/lib/python3.10/site-packages (from nltk>=3.1->textblob) (4.65.0)\n",
      "Requirement already satisfied: click in /Users/hpu4454/anaconda3/lib/python3.10/site-packages (from nltk>=3.1->textblob) (8.1.3)\n",
      "Collecting joblib\n",
      "  Using cached joblib-1.2.0-py3-none-any.whl (297 kB)\n",
      "Installing collected packages: regex, joblib, nltk, textblob\n",
      "  Attempting uninstall: regex\n",
      "    Found existing installation: regex 2019.6.8\n",
      "    Uninstalling regex-2019.6.8:\n",
      "      Successfully uninstalled regex-2019.6.8\n",
      "Successfully installed joblib-1.2.0 nltk-3.8.1 regex-2023.3.23 textblob-0.17.1\n",
      "Collecting vaderSentiment\n",
      "  Downloading vaderSentiment-3.3.2-py2.py3-none-any.whl (125 kB)\n",
      "\u001b[2K     \u001b[90m━━━━━━━━━━━━━━━━━━━━━━━━━━━━━━━━━━━━━\u001b[0m \u001b[32m126.0/126.0 kB\u001b[0m \u001b[31m439.8 kB/s\u001b[0m eta \u001b[36m0:00:00\u001b[0m00:01\u001b[0m00:01\u001b[0m\n",
      "\u001b[?25hRequirement already satisfied: requests in /Users/hpu4454/anaconda3/lib/python3.10/site-packages (from vaderSentiment) (2.28.2)\n",
      "Requirement already satisfied: charset-normalizer<4,>=2 in /Users/hpu4454/anaconda3/lib/python3.10/site-packages (from requests->vaderSentiment) (2.1.1)\n",
      "Requirement already satisfied: certifi>=2017.4.17 in /Users/hpu4454/anaconda3/lib/python3.10/site-packages (from requests->vaderSentiment) (2022.12.7)\n",
      "Requirement already satisfied: idna<4,>=2.5 in /Users/hpu4454/anaconda3/lib/python3.10/site-packages (from requests->vaderSentiment) (3.4)\n",
      "Requirement already satisfied: urllib3<1.27,>=1.21.1 in /Users/hpu4454/anaconda3/lib/python3.10/site-packages (from requests->vaderSentiment) (1.26.15)\n",
      "Installing collected packages: vaderSentiment\n",
      "Successfully installed vaderSentiment-3.3.2\n"
     ]
    }
   ],
   "source": [
    "!pip install textblob\n",
    "!pip install vaderSentiment"
   ]
  },
  {
   "cell_type": "code",
   "execution_count": 3,
   "id": "b017772c-c5a9-41a7-9890-69b06aaf23f5",
   "metadata": {},
   "outputs": [],
   "source": [
    "#Importing libraries\n",
    "from textblob import TextBlob\n",
    "from vaderSentiment.vaderSentiment import SentimentIntensityAnalyzer"
   ]
  },
  {
   "cell_type": "code",
   "execution_count": 7,
   "id": "9a064d79-258f-4ce5-8556-d31c10eefcf6",
   "metadata": {},
   "outputs": [],
   "source": [
    "#Define funcitons for VADER and textblob\n",
    "\n",
    "def vader_score(text):\n",
    "    \n",
    "    #After using VADER we will get  4 values: pos, compound, neu and neg.\n",
    "    #pos:positive, neu:neutral, neg:negative\n",
    "    #Here we are only collecting the compound. Why?\n",
    "    #Because compound score is computed by summing the valence scores of each word in the lexicon, \n",
    "    #adjusted according to the rules, and then normalized to be between -1 (most extreme negative) and +1 (most extreme positive).\n",
    "    \n",
    "    vader_sentiment = SentimentIntensityAnalyzer()\n",
    "    score = vader_sentiment.polarity_scores(text) \n",
    "    return score['compound']"
   ]
  },
  {
   "cell_type": "code",
   "execution_count": 8,
   "id": "7f12f23c-40a3-4f55-821f-8a5be3172093",
   "metadata": {},
   "outputs": [],
   "source": [
    "def textblob_score(text):\n",
    "    \n",
    "    #textblob_sentiment.sentiment will give us 2 values: polarity and subjectivity\n",
    "    #The polarity score is a float within the range [-1.0, 1.0]. \n",
    "    #The subjectivity is a float within the range [0.0, 1.0] where 0.0 is very objective and 1.0 is very subjective.\n",
    "    # Here we are interested in polarity, so we are using polaroty\n",
    "    \n",
    "    textblob_sentiment = TextBlob(text)\n",
    "    score = textblob_sentiment.sentiment.polarity\n",
    "    return score"
   ]
  },
  {
   "cell_type": "code",
   "execution_count": 87,
   "id": "ce80e4e8-4138-42f7-a219-cccbd78e894b",
   "metadata": {},
   "outputs": [],
   "source": [
    "text_list = [\"This is my VERY VERY FIRST EVER post on the internet🫡🤔!\", \"I am very very EXCITED to write this post😍😇!\", \"It's NOT NOT NOT GOOD to work late hours☹️😳!\"]"
   ]
  },
  {
   "cell_type": "code",
   "execution_count": 89,
   "id": "31b4d092-25fd-491e-bb56-c633d2d23dc6",
   "metadata": {},
   "outputs": [
    {
     "name": "stdout",
     "output_type": "stream",
     "text": [
      "sentence: This is my VERY VERY FIRST EVER post on the internet🫡🤔! \n",
      " VADER sentiment score: 0.0 \n",
      " TextBlob score: 0.40625\n",
      "==============================\n",
      "sentence: I am very very EXCITED to write this post😍😇! \n",
      " VADER sentiment score: 0.8749 \n",
      " TextBlob score: 0.609375\n",
      "==============================\n",
      "sentence: It's NOT NOT NOT GOOD to work late hours☹️😳! \n",
      " VADER sentiment score: -0.5802 \n",
      " TextBlob score: -0.3625\n",
      "==============================\n"
     ]
    }
   ],
   "source": [
    "for text in text_list:\n",
    "    print(f'sentence: {text} \\n VADER sentiment score: {vader_score(text)} \\n TextBlob score: {textblob_score(text)}')\n",
    "    print(\"=\" * 30)"
   ]
  },
  {
   "cell_type": "code",
   "execution_count": 78,
   "id": "cfc0a60d-b678-4e6c-8a2a-391f92a8274d",
   "metadata": {},
   "outputs": [
    {
     "name": "stdout",
     "output_type": "stream",
     "text": [
      "sentence: This is my VERY VERY FIRST EVER post on the internet! \n",
      " VADER sentiment score: 0.0 \n",
      " TextBlob score: 0.40625\n",
      "==============================\n",
      "sentence: I am very very EXCITED to write this post! \n",
      " VADER sentiment score: 0.6119 \n",
      " TextBlob score: 0.609375\n",
      "==============================\n",
      "sentence: It's NOT NOT NOT GOOD to work late hours! \n",
      " VADER sentiment score: -0.3311 \n",
      " TextBlob score: -0.3625\n",
      "==============================\n"
     ]
    }
   ],
   "source": [
    "for text in text_list:\n",
    "    print(f'sentence: {text} \\n VADER sentiment score: {vader_score(text)} \\n TextBlob score: {textblob_score(text)}')\n",
    "    print(\"=\" * 30)"
   ]
  },
  {
   "cell_type": "code",
   "execution_count": 17,
   "id": "eb3eaecf-c265-402f-a0ae-dd00ace0bb5e",
   "metadata": {},
   "outputs": [
    {
     "data": {
      "text/plain": [
       "0.0"
      ]
     },
     "execution_count": 17,
     "metadata": {},
     "output_type": "execute_result"
    }
   ],
   "source": [
    "vader_score(text1)"
   ]
  },
  {
   "cell_type": "code",
   "execution_count": 18,
   "id": "e152d1e9-fdf7-49ce-9513-c8299726fe4a",
   "metadata": {},
   "outputs": [
    {
     "data": {
      "text/plain": [
       "0.25"
      ]
     },
     "execution_count": 18,
     "metadata": {},
     "output_type": "execute_result"
    }
   ],
   "source": [
    "textblob_score(text1)"
   ]
  },
  {
   "cell_type": "code",
   "execution_count": 19,
   "id": "68ab90dd-bff7-4bf1-a0bd-b803ec361916",
   "metadata": {},
   "outputs": [
    {
     "data": {
      "text/plain": [
       "0.4005"
      ]
     },
     "execution_count": 19,
     "metadata": {},
     "output_type": "execute_result"
    }
   ],
   "source": [
    "vader_score(text2)"
   ]
  },
  {
   "cell_type": "code",
   "execution_count": 20,
   "id": "757f0dc5-2d3e-42e1-9e85-f19e24a3f36e",
   "metadata": {},
   "outputs": [
    {
     "data": {
      "text/plain": [
       "0.48750000000000004"
      ]
     },
     "execution_count": 20,
     "metadata": {},
     "output_type": "execute_result"
    }
   ],
   "source": [
    "textblob_score(text2)"
   ]
  },
  {
   "cell_type": "code",
   "execution_count": 33,
   "id": "5b2173a5-29f5-4a2c-859d-125b88381af9",
   "metadata": {},
   "outputs": [
    {
     "data": {
      "text/plain": [
       "-0.3412"
      ]
     },
     "execution_count": 33,
     "metadata": {},
     "output_type": "execute_result"
    }
   ],
   "source": [
    "vader_score(text3)"
   ]
  },
  {
   "cell_type": "code",
   "execution_count": 34,
   "id": "5e390134-6990-44f3-b02d-9a348b44afd5",
   "metadata": {},
   "outputs": [
    {
     "data": {
      "text/plain": [
       "-0.32499999999999996"
      ]
     },
     "execution_count": 34,
     "metadata": {},
     "output_type": "execute_result"
    }
   ],
   "source": [
    "textblob_score(text3)"
   ]
  },
  {
   "cell_type": "code",
   "execution_count": null,
   "id": "08dd3734-0f66-45df-b3d4-3bcf3191f8bd",
   "metadata": {},
   "outputs": [],
   "source": []
  }
 ],
 "metadata": {
  "kernelspec": {
   "display_name": "Python 3 (ipykernel)",
   "language": "python",
   "name": "python3"
  },
  "language_info": {
   "codemirror_mode": {
    "name": "ipython",
    "version": 3
   },
   "file_extension": ".py",
   "mimetype": "text/x-python",
   "name": "python",
   "nbconvert_exporter": "python",
   "pygments_lexer": "ipython3",
   "version": "3.10.9"
  }
 },
 "nbformat": 4,
 "nbformat_minor": 5
}
